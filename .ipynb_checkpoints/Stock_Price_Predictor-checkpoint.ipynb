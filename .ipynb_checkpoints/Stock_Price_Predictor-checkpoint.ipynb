{
 "cells": [
  {
   "cell_type": "markdown",
   "metadata": {},
   "source": [
    "\n",
    "## Project: Stock Price Predictor\n"
   ]
  },
  {
   "cell_type": "markdown",
   "metadata": {},
   "source": [
    "\n",
    "\n",
    "   Problem un getting daata from googloe finance"
   ]
  },
  {
   "cell_type": "code",
   "execution_count": 1,
   "metadata": {},
   "outputs": [],
   "source": [
    "import pandas as pd\n",
    "import datetime\n",
    "import pandas_datareader.data as web\n",
    "import yfinance as yf\n",
    "\n",
    "def get_historical_data(symbol,start_date,end_date):\n",
    "    ''' Daily quotes from Google. Date format='yyyy-mm-dd' '''\n",
    "    symbol = symbol.upper()\n",
    "    start = datetime.date(int(start_date[0:4]), int(start_date[5:7]), int(start_date[8:10]))\n",
    "    end = datetime.date(int(end_date[0:4]), int(end_date[5:7]), int(end_date[8:10]))\n",
    "    \n",
    "    #url_string = \"http://www.google.com/finance/historical?q={0}\".format(symbol)\n",
    "    #url_string += \"&startdate={0}&enddate={1}&num={0}&ei=KKltWZHCBNWPuQS9147YBw&output=csv\".format(start.strftime('%b%d,%Y'), end.strftime('%b%d,%Y'),4000)\n",
    "    \n",
    "    col_names = ['Date','Open','High','Low','Close','Volume']\n",
    "    \n",
    "    stocks = yf.download('symbol','start','end')\n",
    "    #stocks = pd.read_csv(url_string, header=0, names=col_names) \n",
    "    df = pd.DataFrame(stocks)\n",
    "    #data = yf.download('AAPL','2016-01-01','2019-08-01'\n",
    "    return df"
   ]
  },
  {
   "cell_type": "markdown",
   "metadata": {
    "collapsed": true
   },
   "source": [
    "data ofdesired firm from [Google Finance](http://www.google.com/finance)."
   ]
  },
  {
   "cell_type": "code",
   "execution_count": null,
   "metadata": {},
   "outputs": [
    {
     "name": "stderr",
     "output_type": "stream",
     "text": [
      "Exception in thread Thread-6:\n",
      "Traceback (most recent call last):\n",
      "  File \"C:\\ProgramData\\Anaconda3\\lib\\threading.py\", line 917, in _bootstrap_inner\n",
      "    self.run()\n",
      "  File \"C:\\ProgramData\\Anaconda3\\lib\\threading.py\", line 865, in run\n",
      "    self._target(*self._args, **self._kwargs)\n",
      "  File \"C:\\ProgramData\\Anaconda3\\lib\\site-packages\\multitasking\\__init__.py\", line 102, in _run_via_pool\n",
      "    return callee(*args, **kwargs)\n",
      "  File \"C:\\ProgramData\\Anaconda3\\lib\\site-packages\\yfinance\\__init__.py\", line 514, in _download_one_threaded\n",
      "    period, interval, prepost, proxy)\n",
      "  File \"C:\\ProgramData\\Anaconda3\\lib\\site-packages\\yfinance\\__init__.py\", line 527, in _download_one\n",
      "    proxy=proxy)\n",
      "  File \"C:\\ProgramData\\Anaconda3\\lib\\site-packages\\yfinance\\__init__.py\", line 307, in history\n",
      "    _time.strptime(str(start), '%Y-%m-%d')))\n",
      "  File \"C:\\ProgramData\\Anaconda3\\lib\\_strptime.py\", line 571, in _strptime_time\n",
      "    tt = _strptime(data_string, format)[0]\n",
      "  File \"C:\\ProgramData\\Anaconda3\\lib\\_strptime.py\", line 359, in _strptime\n",
      "    (data_string, format))\n",
      "ValueError: time data 'start' does not match format '%Y-%m-%d'\n",
      "\n"
     ]
    }
   ],
   "source": [
    "data = get_historical_data('GOOGL','2017-01-01','2019-06-30')"
   ]
  },
  {
   "cell_type": "markdown",
   "metadata": {},
   "source": [
    " Write the data to a csv file."
   ]
  },
  {
   "cell_type": "code",
   "execution_count": null,
   "metadata": {},
   "outputs": [],
   "source": [
    "data.to_csv('google.csv',index = False)"
   ]
  },
  {
   "cell_type": "markdown",
   "metadata": {},
   "source": [
    "The data has been saved to disk."
   ]
  },
  {
   "cell_type": "markdown",
   "metadata": {},
   "source": [
    "## Preprocessing data\n",
    " Get the data from csv file."
   ]
  },
  {
   "cell_type": "code",
   "execution_count": null,
   "metadata": {},
   "outputs": [],
   "source": [
    "import pandas as pd\n",
    "import numpy as np\n",
    "\n",
    "data = pd.read_csv('google.csv')\n",
    "print(data.head())\n",
    "\n",
    "print(\"\\n\")\n",
    "print(\"Open   --- mean :\", np.mean(data['Open']),  \"  \\t Std: \", np.std(data['Open']),  \"  \\t Max: \", np.max(data['Open']),  \"  \\t Min: \", np.min(data['Open']))\n",
    "print(\"High   --- mean :\", np.mean(data['High']),  \"  \\t Std: \", np.std(data['High']),  \"  \\t Max: \", np.max(data['High']),  \"  \\t Min: \", np.min(data['High']))\n",
    "print(\"Low    --- mean :\", np.mean(data['Low']),   \"  \\t Std: \", np.std(data['Low']),   \"  \\t Max: \", np.max(data['Low']),   \"  \\t Min: \", np.min(data['Low']))\n",
    "print(\"Close  --- mean :\", np.mean(data['Close']), \"  \\t Std: \", np.std(data['Close']), \"  \\t Max: \", np.max(data['Close']), \"  \\t Min: \", np.min(data['Close']))\n",
    "print(\"Volume --- mean :\", np.mean(data['Volume']),\"  \\t Std: \", np.std(data['Volume']),\"  \\t Max: \", np.max(data['Volume']),\"  \\t Min: \", np.min(data['Volume']))\n"
   ]
  },
  {
   "cell_type": "markdown",
   "metadata": {},
   "source": [
    " Removing Unncessary data"
   ]
  },
  {
   "cell_type": "code",
   "execution_count": null,
   "metadata": {},
   "outputs": [],
   "source": [
    "import preprocess_data as ppd\n",
    "stocks = ppd.remove_data(data)\n",
    "\n",
    "#Print the dataframe head and tail\n",
    "print(stocks.head())\n",
    "print(\"---\")\n",
    "print(stocks.tail())"
   ]
  },
  {
   "cell_type": "markdown",
   "metadata": {},
   "source": [
    "Data visualisation"
   ]
  },
  {
   "cell_type": "code",
   "execution_count": null,
   "metadata": {},
   "outputs": [],
   "source": [
    "import visualize\n",
    "\n",
    "visualize.plot_basic(stocks)"
   ]
  },
  {
   "cell_type": "markdown",
   "metadata": {},
   "source": [
    "Normalising using  minmaxscaler fun"
   ]
  },
  {
   "cell_type": "code",
   "execution_count": null,
   "metadata": {},
   "outputs": [],
   "source": [
    "stocks = ppd.get_normalised_data(stocks)\n",
    "print(stocks.head())\n",
    "\n",
    "print(\"\\n\")\n",
    "print(\"Open   --- mean :\", np.mean(stocks['Open']),  \"  \\t Std: \", np.std(stocks['Open']),  \"  \\t Max: \", np.max(stocks['Open']),  \"  \\t Min: \", np.min(stocks['Open']))\n",
    "print(\"Close  --- mean :\", np.mean(stocks['Close']), \"  \\t Std: \", np.std(stocks['Close']), \"  \\t Max: \", np.max(stocks['Close']), \"  \\t Min: \", np.min(stocks['Close']))\n",
    "print(\"Volume --- mean :\", np.mean(stocks['Volume']),\"  \\t Std: \", np.std(stocks['Volume']),\"  \\t Max: \", np.max(stocks['Volume']),\"  \\t Min: \", np.min(stocks['Volume']))"
   ]
  },
  {
   "cell_type": "markdown",
   "metadata": {},
   "source": [
    "Data visualisation (again)"
   ]
  },
  {
   "cell_type": "code",
   "execution_count": null,
   "metadata": {},
   "outputs": [],
   "source": [
    "visualize.plot_basic(stocks)"
   ]
  },
  {
   "cell_type": "markdown",
   "metadata": {
    "collapsed": true
   },
   "source": [
    " Log the normalised data for future resuablilty"
   ]
  },
  {
   "cell_type": "code",
   "execution_count": null,
   "metadata": {},
   "outputs": [],
   "source": [
    "stocks.to_csv('google_preprocessed.csv',index= False)"
   ]
  },
  {
   "cell_type": "markdown",
   "metadata": {},
   "source": [
    "#saving the pre processed data to disc#"
   ]
  },
  {
   "cell_type": "markdown",
   "metadata": {},
   "source": [
    "## Bench Mark Model\n"
   ]
  },
  {
   "cell_type": "markdown",
   "metadata": {},
   "source": [
    " Loading the preprocessed data"
   ]
  },
  {
   "cell_type": "code",
   "execution_count": null,
   "metadata": {},
   "outputs": [],
   "source": [
    "import math\n",
    "import pandas as pd\n",
    "import numpy as np\n",
    "from IPython.display import display\n",
    "from sklearn import linear_model\n",
    "from sklearn.model_selection import train_test_split\n",
    "from sklearn.metrics import mean_squared_error\n",
    "from sklearn.model_selection import TimeSeriesSplit\n",
    "\n",
    "import visualize as vs\n",
    "import stock_data as sd\n",
    "import LinearRegressionModel\n",
    "\n",
    "stocks = pd.read_csv('google_preprocessed.csv')\n",
    "display(stocks.head())"
   ]
  },
  {
   "cell_type": "markdown",
   "metadata": {},
   "source": [
    "Spliting data into train and test pair"
   ]
  },
  {
   "cell_type": "code",
   "execution_count": null,
   "metadata": {},
   "outputs": [],
   "source": [
    "X_train, X_test, y_train, y_test, label_range= sd.train_test_split_linear_regression(stocks)\n",
    "\n",
    "print(\"x_train\", X_train.shape)\n",
    "print(\"y_train\", y_train.shape)\n",
    "print(\"x_test\", X_test.shape)\n",
    "print(\"y_test\", y_test.shape)"
   ]
  },
  {
   "cell_type": "markdown",
   "metadata": {},
   "source": [
    " Train a Linear regressor model on training set and get prediction"
   ]
  },
  {
   "cell_type": "code",
   "execution_count": null,
   "metadata": {},
   "outputs": [],
   "source": [
    "model = LinearRegressionModel.build_model(X_train,y_train)"
   ]
  },
  {
   "cell_type": "markdown",
   "metadata": {},
   "source": [
    "get prediction on test set"
   ]
  },
  {
   "cell_type": "code",
   "execution_count": null,
   "metadata": {},
   "outputs": [],
   "source": [
    "predictions = LinearRegressionModel.predict_prices(model,X_test, label_range)"
   ]
  },
  {
   "cell_type": "markdown",
   "metadata": {},
   "source": [
    "Plot the predicted values against actual"
   ]
  },
  {
   "cell_type": "code",
   "execution_count": null,
   "metadata": {},
   "outputs": [],
   "source": [
    "vs.plot_prediction(y_test,predictions)"
   ]
  },
  {
   "cell_type": "markdown",
   "metadata": {},
   "source": [
    "measure accuracy of the prediction"
   ]
  },
  {
   "cell_type": "code",
   "execution_count": null,
   "metadata": {},
   "outputs": [],
   "source": [
    "trainScore = mean_squared_error(X_train, y_train)\n",
    "print('Train Score: %.4f MSE (%.4f RMSE)' % (trainScore, math.sqrt(trainScore)))\n",
    "\n",
    "testScore = mean_squared_error(predictions, y_test)\n",
    "print('Test Score: %.8f MSE (%.8f RMSE)' % (testScore, math.sqrt(testScore)))"
   ]
  },
  {
   "cell_type": "markdown",
   "metadata": {},
   "source": [
    "\n",
    "\n",
    "In this section we will use LSTM to train and test on our data set."
   ]
  },
  {
   "cell_type": "markdown",
   "metadata": {},
   "source": [
    "### Basic LSTM Model\n"
   ]
  },
  {
   "cell_type": "markdown",
   "metadata": {},
   "source": [
    " import keras libraries for smooth implementaion of lstm "
   ]
  },
  {
   "cell_type": "code",
   "execution_count": null,
   "metadata": {},
   "outputs": [],
   "source": [
    "import math\n",
    "import pandas as pd\n",
    "import numpy as np\n",
    "from IPython.display import display\n",
    "\n",
    "from keras.layers.core import Dense, Activation, Dropout\n",
    "from keras.layers.recurrent import LSTM\n",
    "from keras.models import Sequential\n",
    "from keras.metrics import mean_squared_error\n",
    "from sklearn.model_selection import StratifiedKFold\n",
    "\n",
    "import lstm, time #helper libraries\n",
    "\n",
    "import visualize as vs\n",
    "import stock_data as sd\n",
    "import LinearRegressionModel\n",
    "\n",
    "stocks = pd.read_csv('google_preprocessed.csv')\n",
    "stocks_data = stocks.drop(['Item'], axis =1)\n",
    "\n",
    "display(stocks_data.head())"
   ]
  },
  {
   "cell_type": "markdown",
   "metadata": {},
   "source": [
    " Split train and test data sets and Unroll train and test data for lstm model"
   ]
  },
  {
   "cell_type": "code",
   "execution_count": null,
   "metadata": {},
   "outputs": [],
   "source": [
    "X_train, X_test,y_train, y_test = sd.train_test_split_lstm(stocks_data, 5)\n",
    "\n",
    "unroll_length = 50\n",
    "X_train = sd.unroll(X_train, unroll_length)\n",
    "X_test = sd.unroll(X_test, unroll_length)\n",
    "y_train = y_train[-X_train.shape[0]:]\n",
    "y_test = y_test[-X_test.shape[0]:]\n",
    "\n",
    "print(\"x_train\", X_train.shape)\n",
    "print(\"y_train\", y_train.shape)\n",
    "print(\"x_test\", X_test.shape)\n",
    "print(\"y_test\", y_test.shape)"
   ]
  },
  {
   "cell_type": "markdown",
   "metadata": {},
   "source": [
    " Build a basic Long-Short Term Memory model"
   ]
  },
  {
   "cell_type": "code",
   "execution_count": null,
   "metadata": {},
   "outputs": [],
   "source": [
    "# build basic lstm model\n",
    "model = lstm.build_basic_model(input_dim = X_train.shape[-1],output_dim = unroll_length, return_sequences=True)\n",
    "\n",
    "# Compile the model\n",
    "start = time.time()\n",
    "model.compile(loss='mean_squared_error', optimizer='adam')\n",
    "print('compilation time : ', time.time() - start)"
   ]
  },
  {
   "cell_type": "markdown",
   "metadata": {},
   "source": [
    " Train the model"
   ]
  },
  {
   "cell_type": "code",
   "execution_count": null,
   "metadata": {},
   "outputs": [],
   "source": [
    "model.fit(\n",
    "    X_train,\n",
    "    y_train,\n",
    "    epochs=1,\n",
    "    validation_split=0.05)"
   ]
  },
  {
   "cell_type": "markdown",
   "metadata": {},
   "source": [
    " prediction using test data"
   ]
  },
  {
   "cell_type": "code",
   "execution_count": null,
   "metadata": {},
   "outputs": [],
   "source": [
    "predictions = model.predict(X_test)"
   ]
  },
  {
   "cell_type": "markdown",
   "metadata": {},
   "source": [
    " Plot the results"
   ]
  },
  {
   "cell_type": "code",
   "execution_count": null,
   "metadata": {},
   "outputs": [],
   "source": [
    "vs.plot_lstm_prediction(y_test,predictions)"
   ]
  },
  {
   "cell_type": "markdown",
   "metadata": {},
   "source": [
    "** Step 7:** Get the test score."
   ]
  },
  {
   "cell_type": "code",
   "execution_count": null,
   "metadata": {},
   "outputs": [],
   "source": [
    "trainScore = model.evaluate(X_train, y_train, verbose=0)\n",
    "print('Train Score: %.8f MSE (%.8f RMSE)' % (trainScore, math.sqrt(trainScore)))\n",
    "\n",
    "testScore = model.evaluate(X_test, y_test, verbose=0)\n",
    "print('Test Score: %.8f MSE (%.8f RMSE)' % (testScore, math.sqrt(testScore)))"
   ]
  },
  {
   "cell_type": "markdown",
   "metadata": {},
   "source": [
    "### Improved LSTM Model\n",
    " Build an improved LSTM model"
   ]
  },
  {
   "cell_type": "code",
   "execution_count": null,
   "metadata": {},
   "outputs": [],
   "source": [
    "# Set up hyperparameters\n",
    "batch_size = 100\n",
    "epochs = 5\n",
    "\n",
    "# build improved lstm model\n",
    "model = lstm.build_improved_model( X_train.shape[-1],output_dim = unroll_length, return_sequences=True)\n",
    "\n",
    "start = time.time()\n",
    "#final_model.compile(loss='mean_squared_error', optimizer='adam')\n",
    "model.compile(loss='mean_squared_error', optimizer='adam')\n",
    "print('compilation time : ', time.time() - start)"
   ]
  },
  {
   "cell_type": "markdown",
   "metadata": {},
   "source": [
    " Train improved LSTM model"
   ]
  },
  {
   "cell_type": "code",
   "execution_count": null,
   "metadata": {
    "scrolled": true
   },
   "outputs": [],
   "source": [
    "model.fit(X_train, \n",
    "          y_train, \n",
    "          batch_size=batch_size,\n",
    "          epochs=epochs,\n",
    "          verbose=2,\n",
    "          validation_split=0.05\n",
    "         )"
   ]
  },
  {
   "cell_type": "markdown",
   "metadata": {},
   "source": [
    " Make prediction on improved LSTM model"
   ]
  },
  {
   "cell_type": "code",
   "execution_count": null,
   "metadata": {},
   "outputs": [],
   "source": [
    "# Generate predictions \n",
    "predictions = model.predict(X_test, batch_size=batch_size)"
   ]
  },
  {
   "cell_type": "markdown",
   "metadata": {},
   "source": [
    "ploting the results"
   ]
  },
  {
   "cell_type": "code",
   "execution_count": null,
   "metadata": {},
   "outputs": [],
   "source": [
    "vs.plot_lstm_prediction(y_test,predictions)"
   ]
  },
  {
   "cell_type": "markdown",
   "metadata": {},
   "source": [
    " Get the test score"
   ]
  },
  {
   "cell_type": "code",
   "execution_count": null,
   "metadata": {},
   "outputs": [],
   "source": [
    "trainScore = model.evaluate(X_train, y_train, verbose=0)\n",
    "print('Train Score: %.8f MSE (%.8f RMSE)' % (trainScore, math.sqrt(trainScore)))\n",
    "\n",
    "testScore = model.evaluate(X_test, y_test, verbose=0)\n",
    "print('Test Score: %.8f MSE (%.8f RMSE)' % (testScore, math.sqrt(testScore)))"
   ]
  },
  {
   "cell_type": "code",
   "execution_count": null,
   "metadata": {},
   "outputs": [],
   "source": [
    "range = [np.amin(stocks_data['Close']), np.amax(stocks_data['Close'])]\n",
    "\n",
    "#Calculate the stock price delta in $\n",
    "\n",
    "true_delta = testScore*(range[1]-range[0])\n",
    "print('Delta Price: %.6f - RMSE * Adjusted Close Range' % true_delta)    "
   ]
  },
  {
   "cell_type": "markdown",
   "metadata": {},
   "source": [
    "checkinh model"
   ]
  },
  {
   "cell_type": "code",
   "execution_count": null,
   "metadata": {},
   "outputs": [],
   "source": [
    "import preprocess_data as ppd\n",
    "\n",
    "data = pd.read_csv('googl.csv')\n",
    "\n",
    "stocks = ppd.remove_data(data)\n",
    "\n",
    "stocks = ppd.get_normalised_data(stocks)\n",
    "\n",
    "stocks = stocks.drop(['Item'], axis = 1)\n",
    "#Print the dataframe head and tail\n",
    "print(stocks.head())\n",
    "\n",
    "X = stocks[:].as_matrix()\n",
    "Y = stocks[:]['Close'].as_matrix()\n",
    "\n",
    "X = sd.unroll(X,1)\n",
    "Y = Y[-X.shape[0]:]\n",
    "\n",
    "print(X.shape)\n",
    "print(Y.shape)\n",
    "\n",
    "# Generate predictions \n",
    "predictions = model.predict(X)\n",
    "\n",
    "#get the test score\n",
    "testScore = model.evaluate(X, Y, verbose=0)\n",
    "print('Test Score: %.4f MSE (%.4f RMSE)' % (testScore, math.sqrt(testScore)))"
   ]
  },
  {
   "cell_type": "code",
   "execution_count": null,
   "metadata": {},
   "outputs": [],
   "source": []
  }
 ],
 "metadata": {
  "kernelspec": {
   "display_name": "Python 3",
   "language": "python",
   "name": "python3"
  },
  "language_info": {
   "codemirror_mode": {
    "name": "ipython",
    "version": 3
   },
   "file_extension": ".py",
   "mimetype": "text/x-python",
   "name": "python",
   "nbconvert_exporter": "python",
   "pygments_lexer": "ipython3",
   "version": "3.7.3"
  }
 },
 "nbformat": 4,
 "nbformat_minor": 2
}
