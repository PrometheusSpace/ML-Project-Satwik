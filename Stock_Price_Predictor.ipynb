{
 "cells": [
  {
   "cell_type": "markdown",
   "metadata": {},
   "source": [
    "\n",
    "## Project: Stock Price Predictor\n"
   ]
  },
  {
   "cell_type": "markdown",
   "metadata": {},
   "source": [
    "\n",
    "\n",
    "   Problem un getting daata from googloe finance"
   ]
  },
  {
   "cell_type": "code",
   "execution_count": 1,
   "metadata": {},
   "outputs": [],
   "source": [
    "import pandas as pd\n",
    "import datetime\n",
    "import pandas_datareader.data as web\n",
    "import yfinance as yf\n",
    "\n",
    "def get_historical_data(symbol,start_date,end_date):\n",
    "    ''' Daily quotes from Google. Date format='yyyy-mm-dd' '''\n",
    "    symbol = symbol.upper()\n",
    "    start = datetime.date(int(start_date[0:4]), int(start_date[5:7]), int(start_date[8:10]))\n",
    "    end = datetime.date(int(end_date[0:4]), int(end_date[5:7]), int(end_date[8:10]))\n",
    "    \n",
    "    #url_string = \"http://www.google.com/finance/historical?q={0}\".format(symbol)\n",
    "    #url_string += \"&startdate={0}&enddate={1}&num={0}&ei=KKltWZHCBNWPuQS9147YBw&output=csv\".format(start.strftime('%b%d,%Y'), end.strftime('%b%d,%Y'),4000)\n",
    "    \n",
    "    #col_names = ['Date','Open','High','Low','Close','Volume']\n",
    "    \n",
    "    stocks = yf.download('symbol','start','end')\n",
    "    #stocks = pd.read_csv(url_string, header=0, names=col_names) \n",
    "    df = pd.DataFrame(stocks)\n",
    "    #data = yf.download('AAPL','2016-01-01','2019-08-01'\n",
    "    return df"
   ]
  },
  {
   "cell_type": "code",
   "execution_count": 2,
   "metadata": {},
   "outputs": [
    {
     "name": "stdout",
     "output_type": "stream",
     "text": [
      "[*********************100%***********************]  1 of 1 downloaded\n",
      "               Open     High      Low    Close  Adj Close   Volume\n",
      "Date                                                              \n",
      "2017-01-03   800.62   811.44   796.89   808.01     808.01  1959000\n",
      "2017-01-04   809.89   813.43   804.11   807.77     807.77  1515300\n",
      "2017-01-05   807.50   813.74   805.92   813.02     813.02  1340500\n",
      "2017-01-06   814.99   828.96   811.50   825.21     825.21  2017100\n",
      "2017-01-09   826.37   830.43   821.62   827.18     827.18  1408900\n",
      "2017-01-10   827.07   829.41   823.14   826.01     826.01  1197400\n",
      "2017-01-11   826.62   829.90   821.47   829.86     829.86  1325400\n",
      "2017-01-12   828.38   830.38   821.01   829.53     829.53  1349500\n",
      "2017-01-13   831.00   834.65   829.52   830.94     830.94  1290200\n",
      "2017-01-17   830.00   830.18   823.20   827.46     827.46  1440900\n",
      "2017-01-18   829.80   829.81   824.08   829.02     829.02  1027700\n",
      "2017-01-19   829.00   833.00   823.96   824.37     824.37  1070500\n",
      "2017-01-20   829.09   829.24   824.60   828.17     828.17  1306200\n",
      "2017-01-23   831.61   845.54   828.70   844.43     844.43  2457400\n",
      "2017-01-24   846.98   851.52   842.28   849.53     849.53  1688400\n",
      "2017-01-25   853.55   858.79   849.74   858.45     858.45  1655400\n",
      "2017-01-26   859.05   861.00   850.52   856.98     856.98  3493300\n",
      "2017-01-27   859.00   867.00   841.90   845.03     845.03  3752500\n",
      "2017-01-30   837.06   837.23   821.03   823.83     823.83  3516900\n",
      "2017-01-31   819.50   823.07   813.40   820.19     820.19  2020200\n",
      "2017-02-01   824.00   824.00   812.25   815.24     815.24  2251000\n",
      "2017-02-02   815.00   824.56   812.05   818.26     818.26  1689200\n",
      "2017-02-03   823.13   826.13   819.35   820.13     820.13  1528100\n",
      "2017-02-06   820.92   822.39   814.29   821.62     821.62  1350900\n",
      "2017-02-07   825.50   831.92   823.29   829.23     829.23  1666600\n",
      "2017-02-08   830.53   834.25   825.11   829.88     829.88  1302200\n",
      "2017-02-09   831.73   831.98   826.50   830.06     830.06  1194200\n",
      "2017-02-10   832.95   837.15   830.51   834.85     834.85  1415100\n",
      "2017-02-13   837.70   841.74   836.25   838.96     838.96  1295700\n",
      "2017-02-14   839.77   842.00   835.83   840.03     840.03  1363300\n",
      "...             ...      ...      ...      ...        ...      ...\n",
      "2019-05-17  1175.83  1186.29  1166.42  1168.78    1168.78  1268100\n",
      "2019-05-20  1153.00  1153.00  1138.14  1144.66    1144.66  1530100\n",
      "2019-05-21  1154.48  1158.00  1143.31  1154.44    1154.44  1028100\n",
      "2019-05-22  1151.25  1163.78  1151.00  1155.85    1155.85   941300\n",
      "2019-05-23  1146.07  1150.05  1133.16  1145.34    1145.34  1260700\n",
      "2019-05-24  1152.00  1154.36  1136.71  1138.61    1138.61   927700\n",
      "2019-05-28  1141.48  1156.49  1138.67  1139.56    1139.56  1047400\n",
      "2019-05-29  1132.70  1135.00  1111.95  1119.94    1119.94  1811500\n",
      "2019-05-30  1120.15  1126.80  1115.90  1121.41    1121.41   904400\n",
      "2019-05-31  1105.64  1113.40  1103.35  1106.50    1106.50  1579100\n",
      "2019-06-03  1066.93  1067.00  1027.03  1038.74    1038.74  4844500\n",
      "2019-06-04  1044.49  1058.44  1036.03  1054.49    1054.49  3025600\n",
      "2019-06-05  1055.00  1056.81  1033.00  1044.64    1044.64  2349400\n",
      "2019-06-06  1046.21  1050.00  1035.51  1047.76    1047.76  1451000\n",
      "2019-06-07  1054.28  1073.43  1051.15  1068.37    1068.37  2191400\n",
      "2019-06-10  1077.00  1094.84  1075.28  1082.76    1082.76  1425500\n",
      "2019-06-11  1096.99  1104.01  1079.57  1081.04    1081.04  1675400\n",
      "2019-06-12  1079.95  1082.52  1069.60  1079.10    1079.10  1183500\n",
      "2019-06-13  1084.71  1096.59  1082.57  1091.01    1091.01  1040700\n",
      "2019-06-14  1089.74  1094.76  1081.48  1086.30    1086.30  1229100\n",
      "2019-06-17  1089.10  1101.28  1088.00  1093.89    1093.89   988500\n",
      "2019-06-18  1111.50  1118.78  1100.79  1105.24    1105.24  1726300\n",
      "2019-06-19  1107.24  1109.43  1096.03  1104.51    1104.51  1335700\n",
      "2019-06-20  1121.70  1122.72  1107.00  1113.20    1113.20  1200900\n",
      "2019-06-21  1109.86  1126.57  1109.72  1125.37    1125.37  2538700\n",
      "2019-06-24  1120.00  1123.57  1113.31  1116.70    1116.70  1211800\n",
      "2019-06-25  1115.08  1115.70  1084.60  1087.58    1087.58  1582200\n",
      "2019-06-26  1091.00  1095.12  1073.69  1080.32    1080.32  1734900\n",
      "2019-06-27  1086.75  1088.46  1075.85  1076.63    1076.63  1203900\n",
      "2019-06-28  1077.23  1082.80  1073.80  1082.80    1082.80  1683600\n",
      "\n",
      "[626 rows x 6 columns]\n"
     ]
    }
   ],
   "source": [
    "\n",
    "    \n",
    "    \n",
    "\n",
    "    df = pd.DataFrame(yf.download('GOOGL','2017-01-01','2019-06-30'))\n",
    " \n",
    "    print(df)"
   ]
  },
  {
   "cell_type": "markdown",
   "metadata": {
    "collapsed": true
   },
   "source": [
    "data ofdesired firm from [Google Finance](http://www.google.com/finance)."
   ]
  },
  {
   "cell_type": "code",
   "execution_count": 3,
   "metadata": {},
   "outputs": [
    {
     "name": "stdout",
     "output_type": "stream",
     "text": [
      "[*********************100%***********************]  1 of 1 downloaded\n"
     ]
    }
   ],
   "source": [
    "#data = get_historical_data('GOOGL','2017-01-01','2019-06-30')\n",
    "data = pd.DataFrame(yf.download('GOOGL','2017-01-01','2019-06-30'))"
   ]
  },
  {
   "cell_type": "markdown",
   "metadata": {},
   "source": [
    " Write the data to a csv file."
   ]
  },
  {
   "cell_type": "code",
   "execution_count": 4,
   "metadata": {},
   "outputs": [],
   "source": [
    "data.to_csv('google.csv',index = False)"
   ]
  },
  {
   "cell_type": "markdown",
   "metadata": {},
   "source": [
    "The data has been saved to disk."
   ]
  },
  {
   "cell_type": "markdown",
   "metadata": {},
   "source": [
    "## Preprocessing data\n",
    " Get the data from csv file."
   ]
  },
  {
   "cell_type": "code",
   "execution_count": 5,
   "metadata": {},
   "outputs": [
    {
     "name": "stdout",
     "output_type": "stream",
     "text": [
      "     Open    High     Low   Close  Adj Close   Volume\n",
      "0  800.62  811.44  796.89  808.01     808.01  1959000\n",
      "1  809.89  813.43  804.11  807.77     807.77  1515300\n",
      "2  807.50  813.74  805.92  813.02     813.02  1340500\n",
      "3  814.99  828.96  811.50  825.21     825.21  2017100\n",
      "4  826.37  830.43  821.62  827.18     827.18  1408900\n",
      "\n",
      "\n",
      "Open   --- mean : 1053.1281150159741   \t Std:  116.53653272423257   \t Max:  1289.12   \t Min:  800.62\n",
      "High   --- mean : 1062.3022683706067   \t Std:  118.28096363638679   \t Max:  1296.97   \t Min:  811.44\n",
      "Low    --- mean : 1043.389392971246   \t Std:  114.67386846434196   \t Max:  1271.71   \t Min:  796.89\n",
      "Close  --- mean : 1053.2512140575088   \t Std:  116.4820779580576   \t Max:  1296.2   \t Min:  807.77\n",
      "Volume --- mean : 1797481.948881789   \t Std:  812734.4635171649   \t Max:  6658900   \t Min:  708900\n"
     ]
    }
   ],
   "source": [
    "import pandas as pd\n",
    "import numpy as np\n",
    "\n",
    "data = pd.read_csv('google.csv')\n",
    "print(data.head())\n",
    "\n",
    "print(\"\\n\")\n",
    "print(\"Open   --- mean :\", np.mean(data['Open']),  \"  \\t Std: \", np.std(data['Open']),  \"  \\t Max: \", np.max(data['Open']),  \"  \\t Min: \", np.min(data['Open']))\n",
    "print(\"High   --- mean :\", np.mean(data['High']),  \"  \\t Std: \", np.std(data['High']),  \"  \\t Max: \", np.max(data['High']),  \"  \\t Min: \", np.min(data['High']))\n",
    "print(\"Low    --- mean :\", np.mean(data['Low']),   \"  \\t Std: \", np.std(data['Low']),   \"  \\t Max: \", np.max(data['Low']),   \"  \\t Min: \", np.min(data['Low']))\n",
    "print(\"Close  --- mean :\", np.mean(data['Close']), \"  \\t Std: \", np.std(data['Close']), \"  \\t Max: \", np.max(data['Close']), \"  \\t Min: \", np.min(data['Close']))\n",
    "print(\"Volume --- mean :\", np.mean(data['Volume']),\"  \\t Std: \", np.std(data['Volume']),\"  \\t Max: \", np.max(data['Volume']),\"  \\t Min: \", np.min(data['Volume']))\n"
   ]
  },
  {
   "cell_type": "markdown",
   "metadata": {},
   "source": [
    " Removing Unncessary data"
   ]
  },
  {
   "cell_type": "code",
   "execution_count": 6,
   "metadata": {},
   "outputs": [
    {
     "name": "stdout",
     "output_type": "stream",
     "text": [
      "   Item     Open    Close   Volume\n",
      "0     0  1077.23  1082.80  1683600\n",
      "1     1  1086.75  1076.63  1203900\n",
      "2     2  1091.00  1080.32  1734900\n",
      "3     3  1115.08  1087.58  1582200\n",
      "4     4  1120.00  1116.70  1211800\n",
      "---\n",
      "     Item    Open   Close   Volume\n",
      "621   621  826.37  827.18  1408900\n",
      "622   622  814.99  825.21  2017100\n",
      "623   623  807.50  813.02  1340500\n",
      "624   624  809.89  807.77  1515300\n",
      "625   625  800.62  808.01  1959000\n"
     ]
    }
   ],
   "source": [
    "import preprocess_data as ppd\n",
    "stocks = ppd.remove_data(data)\n",
    "\n",
    "#Print the dataframe head and tail\n",
    "print(stocks.head())\n",
    "print(\"---\")\n",
    "print(stocks.tail())"
   ]
  },
  {
   "cell_type": "markdown",
   "metadata": {},
   "source": [
    "Data visualisation"
   ]
  },
  {
   "cell_type": "code",
   "execution_count": 7,
   "metadata": {},
   "outputs": [
    {
     "data": {
      "text/plain": [
       "<Figure size 1800x1200 with 1 Axes>"
      ]
     },
     "metadata": {},
     "output_type": "display_data"
    }
   ],
   "source": [
    "import visualize\n",
    "\n",
    "visualize.plot_basic(stocks)"
   ]
  },
  {
   "cell_type": "markdown",
   "metadata": {},
   "source": [
    "Normalising using  minmaxscaler fun"
   ]
  },
  {
   "cell_type": "code",
   "execution_count": 8,
   "metadata": {},
   "outputs": [
    {
     "name": "stdout",
     "output_type": "stream",
     "text": [
      "   Item      Open     Close    Volume\n",
      "0     0  0.566244  0.563090  0.163815\n",
      "1     1  0.585732  0.550458  0.083193\n",
      "2     2  0.594432  0.558012  0.172437\n",
      "3     3  0.643726  0.572876  0.146773\n",
      "4     4  0.653797  0.632496  0.084521\n",
      "\n",
      "\n",
      "Open   --- mean : 0.5169050460920668   \t Std:  0.23855994416424275   \t Max:  1.0   \t Min:  0.0\n",
      "Close  --- mean : 0.5025924166359734   \t Std:  0.23848264430534094   \t Max:  1.0   \t Min:  0.0\n",
      "Volume --- mean : 0.18295494939189727   \t Std:  0.1365940274818765   \t Max:  1.0   \t Min:  0.0\n"
     ]
    }
   ],
   "source": [
    "stocks = ppd.get_normalised_data(stocks)\n",
    "print(stocks.head())\n",
    "\n",
    "print(\"\\n\")\n",
    "print(\"Open   --- mean :\", np.mean(stocks['Open']),  \"  \\t Std: \", np.std(stocks['Open']),  \"  \\t Max: \", np.max(stocks['Open']),  \"  \\t Min: \", np.min(stocks['Open']))\n",
    "print(\"Close  --- mean :\", np.mean(stocks['Close']), \"  \\t Std: \", np.std(stocks['Close']), \"  \\t Max: \", np.max(stocks['Close']), \"  \\t Min: \", np.min(stocks['Close']))\n",
    "print(\"Volume --- mean :\", np.mean(stocks['Volume']),\"  \\t Std: \", np.std(stocks['Volume']),\"  \\t Max: \", np.max(stocks['Volume']),\"  \\t Min: \", np.min(stocks['Volume']))"
   ]
  },
  {
   "cell_type": "markdown",
   "metadata": {},
   "source": [
    "Data visualisation (again)"
   ]
  },
  {
   "cell_type": "code",
   "execution_count": 9,
   "metadata": {},
   "outputs": [
    {
     "data": {
      "image/png": "[encoded data removed]",
      "text/plain": [
       "<Figure size 432x288 with 1 Axes>"
      ]
     },
     "metadata": {
      "needs_background": "light"
     },
     "output_type": "display_data"
    }
   ],
   "source": [
    "visualize.plot_basic(stocks)"
   ]
  },
  {
   "cell_type": "markdown",
   "metadata": {
    "collapsed": true
   },
   "source": [
    " Log the normalised data for future resuablilty"
   ]
  },
  {
   "cell_type": "code",
   "execution_count": 10,
   "metadata": {},
   "outputs": [],
   "source": [
    "stocks.to_csv('google_preprocessed.csv',index= False)"
   ]
  },
  {
   "cell_type": "markdown",
   "metadata": {},
   "source": [
    "#saving the pre processed data to disc#"
   ]
  },
  {
   "cell_type": "markdown",
   "metadata": {},
   "source": [
    "## Bench Mark Model\n"
   ]
  },
  {
   "cell_type": "markdown",
   "metadata": {},
   "source": [
    " Loading the preprocessed data"
   ]
  },
  {
   "cell_type": "code",
   "execution_count": 11,
   "metadata": {},
   "outputs": [
    {
     "data": {
      "text/html": [
       "<div>\n",
       "<style scoped>\n",
       "    .dataframe tbody tr th:only-of-type {\n",
       "        vertical-align: middle;\n",
       "    }\n",
       "\n",
       "    .dataframe tbody tr th {\n",
       "        vertical-align: top;\n",
       "    }\n",
       "\n",
       "    .dataframe thead th {\n",
       "        text-align: right;\n",
       "    }\n",
       "</style>\n",
       "<table border=\"1\" class=\"dataframe\">\n",
       "  <thead>\n",
       "    <tr style=\"text-align: right;\">\n",
       "      <th></th>\n",
       "      <th>Item</th>\n",
       "      <th>Open</th>\n",
       "      <th>Close</th>\n",
       "      <th>Volume</th>\n",
       "    </tr>\n",
       "  </thead>\n",
       "  <tbody>\n",
       "    <tr>\n",
       "      <th>0</th>\n",
       "      <td>0</td>\n",
       "      <td>0.566244</td>\n",
       "      <td>0.563090</td>\n",
       "      <td>0.163815</td>\n",
       "    </tr>\n",
       "    <tr>\n",
       "      <th>1</th>\n",
       "      <td>1</td>\n",
       "      <td>0.585732</td>\n",
       "      <td>0.550458</td>\n",
       "      <td>0.083193</td>\n",
       "    </tr>\n",
       "    <tr>\n",
       "      <th>2</th>\n",
       "      <td>2</td>\n",
       "      <td>0.594432</td>\n",
       "      <td>0.558012</td>\n",
       "      <td>0.172437</td>\n",
       "    </tr>\n",
       "    <tr>\n",
       "      <th>3</th>\n",
       "      <td>3</td>\n",
       "      <td>0.643726</td>\n",
       "      <td>0.572876</td>\n",
       "      <td>0.146773</td>\n",
       "    </tr>\n",
       "    <tr>\n",
       "      <th>4</th>\n",
       "      <td>4</td>\n",
       "      <td>0.653797</td>\n",
       "      <td>0.632496</td>\n",
       "      <td>0.084521</td>\n",
       "    </tr>\n",
       "  </tbody>\n",
       "</table>\n",
       "</div>"
      ],
      "text/plain": [
       "   Item      Open     Close    Volume\n",
       "0     0  0.566244  0.563090  0.163815\n",
       "1     1  0.585732  0.550458  0.083193\n",
       "2     2  0.594432  0.558012  0.172437\n",
       "3     3  0.643726  0.572876  0.146773\n",
       "4     4  0.653797  0.632496  0.084521"
      ]
     },
     "metadata": {},
     "output_type": "display_data"
    }
   ],
   "source": [
    "import math\n",
    "import pandas as pd\n",
    "import numpy as np\n",
    "from IPython.display import display\n",
    "from sklearn import linear_model\n",
    "from sklearn.model_selection import train_test_split\n",
    "from sklearn.metrics import mean_squared_error\n",
    "from sklearn.model_selection import TimeSeriesSplit\n",
    "\n",
    "import visualize as vs\n",
    "import stock_data as sd\n",
    "import LinearRegressionModel\n",
    "\n",
    "stocks = pd.read_csv('google_preprocessed.csv')\n",
    "display(stocks.head())"
   ]
  },
  {
   "cell_type": "markdown",
   "metadata": {},
   "source": [
    "Spliting data into train and test pair"
   ]
  },
  {
   "cell_type": "code",
   "execution_count": 12,
   "metadata": {},
   "outputs": [
    {
     "name": "stdout",
     "output_type": "stream",
     "text": [
      "x_train (429, 1)\n",
      "y_train (429, 1)\n",
      "x_test (197, 1)\n",
      "y_test (197, 1)\n"
     ]
    }
   ],
   "source": [
    "X_train, X_test, y_train, y_test, label_range= sd.train_test_split_linear_regression(stocks)\n",
    "\n",
    "print(\"x_train\", X_train.shape)\n",
    "print(\"y_train\", y_train.shape)\n",
    "print(\"x_test\", X_test.shape)\n",
    "print(\"y_test\", y_test.shape)"
   ]
  },
  {
   "cell_type": "markdown",
   "metadata": {},
   "source": [
    " Train a Linear regressor model on training set and get prediction"
   ]
  },
  {
   "cell_type": "code",
   "execution_count": 13,
   "metadata": {},
   "outputs": [],
   "source": [
    "model = LinearRegressionModel.build_model(X_train,y_train)"
   ]
  },
  {
   "cell_type": "markdown",
   "metadata": {},
   "source": [
    "get prediction on test set"
   ]
  },
  {
   "cell_type": "code",
   "execution_count": 14,
   "metadata": {},
   "outputs": [],
   "source": [
    "predictions = LinearRegressionModel.predict_prices(model,X_test, label_range)"
   ]
  },
  {
   "cell_type": "markdown",
   "metadata": {},
   "source": [
    "Plot the predicted values against actual"
   ]
  },
  {
   "cell_type": "code",
   "execution_count": 15,
   "metadata": {},
   "outputs": [
    {
     "data": {
      "image/png": "[encoded data removed]",
      "text/plain": [
       "<Figure size 432x288 with 1 Axes>"
      ]
     },
     "metadata": {
      "needs_background": "light"
     },
     "output_type": "display_data"
    }
   ],
   "source": [
    "vs.plot_prediction(y_test,predictions)"
   ]
  },
  {
   "cell_type": "markdown",
   "metadata": {},
   "source": [
    "measure accuracy of the prediction"
   ]
  },
  {
   "cell_type": "code",
   "execution_count": 16,
   "metadata": {},
   "outputs": [
    {
     "name": "stdout",
     "output_type": "stream",
     "text": [
      "Train Score: 0.6644 MSE (0.8151 RMSE)\n",
      "Test Score: 1.20539466 MSE (1.09790467 RMSE)\n"
     ]
    }
   ],
   "source": [
    "trainScore = mean_squared_error(X_train, y_train)\n",
    "print('Train Score: %.4f MSE (%.4f RMSE)' % (trainScore, math.sqrt(trainScore)))\n",
    "\n",
    "testScore = mean_squared_error(predictions, y_test)\n",
    "print('Test Score: %.8f MSE (%.8f RMSE)' % (testScore, math.sqrt(testScore)))"
   ]
  },
  {
   "cell_type": "markdown",
   "metadata": {},
   "source": [
    "\n",
    "\n",
    "In this section we will use LSTM to train and test on our data set."
   ]
  },
  {
   "cell_type": "markdown",
   "metadata": {},
   "source": [
    "### Basic LSTM Model\n"
   ]
  },
  {
   "cell_type": "markdown",
   "metadata": {},
   "source": [
    " import keras libraries for smooth implementaion of lstm "
   ]
  },
  {
   "cell_type": "code",
   "execution_count": 17,
   "metadata": {},
   "outputs": [
    {
     "name": "stderr",
     "output_type": "stream",
     "text": [
      "Using TensorFlow backend.\n"
     ]
    },
    {
     "data": {
      "text/html": [
       "<div>\n",
       "<style scoped>\n",
       "    .dataframe tbody tr th:only-of-type {\n",
       "        vertical-align: middle;\n",
       "    }\n",
       "\n",
       "    .dataframe tbody tr th {\n",
       "        vertical-align: top;\n",
       "    }\n",
       "\n",
       "    .dataframe thead th {\n",
       "        text-align: right;\n",
       "    }\n",
       "</style>\n",
       "<table border=\"1\" class=\"dataframe\">\n",
       "  <thead>\n",
       "    <tr style=\"text-align: right;\">\n",
       "      <th></th>\n",
       "      <th>Open</th>\n",
       "      <th>Close</th>\n",
       "      <th>Volume</th>\n",
       "    </tr>\n",
       "  </thead>\n",
       "  <tbody>\n",
       "    <tr>\n",
       "      <th>0</th>\n",
       "      <td>0.566244</td>\n",
       "      <td>0.563090</td>\n",
       "      <td>0.163815</td>\n",
       "    </tr>\n",
       "    <tr>\n",
       "      <th>1</th>\n",
       "      <td>0.585732</td>\n",
       "      <td>0.550458</td>\n",
       "      <td>0.083193</td>\n",
       "    </tr>\n",
       "    <tr>\n",
       "      <th>2</th>\n",
       "      <td>0.594432</td>\n",
       "      <td>0.558012</td>\n",
       "      <td>0.172437</td>\n",
       "    </tr>\n",
       "    <tr>\n",
       "      <th>3</th>\n",
       "      <td>0.643726</td>\n",
       "      <td>0.572876</td>\n",
       "      <td>0.146773</td>\n",
       "    </tr>\n",
       "    <tr>\n",
       "      <th>4</th>\n",
       "      <td>0.653797</td>\n",
       "      <td>0.632496</td>\n",
       "      <td>0.084521</td>\n",
       "    </tr>\n",
       "  </tbody>\n",
       "</table>\n",
       "</div>"
      ],
      "text/plain": [
       "       Open     Close    Volume\n",
       "0  0.566244  0.563090  0.163815\n",
       "1  0.585732  0.550458  0.083193\n",
       "2  0.594432  0.558012  0.172437\n",
       "3  0.643726  0.572876  0.146773\n",
       "4  0.653797  0.632496  0.084521"
      ]
     },
     "metadata": {},
     "output_type": "display_data"
    }
   ],
   "source": [
    "import math\n",
    "import pandas as pd\n",
    "import numpy as np\n",
    "from IPython.display import display\n",
    "\n",
    "from keras.layers.core import Dense, Activation, Dropout\n",
    "from keras.layers.recurrent import LSTM\n",
    "from keras.models import Sequential\n",
    "from keras.metrics import mean_squared_error\n",
    "from sklearn.model_selection import StratifiedKFold\n",
    "\n",
    "import lstm, time #helper libraries\n",
    "\n",
    "import visualize as vs\n",
    "import stock_data as sd\n",
    "import LinearRegressionModel\n",
    "\n",
    "stocks = pd.read_csv('google_preprocessed.csv')\n",
    "stocks_data = stocks.drop(['Item'], axis =1)\n",
    "\n",
    "display(stocks_data.head())"
   ]
  },
  {
   "cell_type": "markdown",
   "metadata": {},
   "source": [
    " Split train and test data sets and Unroll train and test data for lstm model"
   ]
  },
  {
   "cell_type": "code",
   "execution_count": 18,
   "metadata": {},
   "outputs": [
    {
     "name": "stdout",
     "output_type": "stream",
     "text": [
      "x_train (70, 50, 3)\n",
      "y_train (70,)\n",
      "x_test (446, 50, 3)\n",
      "y_test (446,)\n"
     ]
    },
    {
     "name": "stderr",
     "output_type": "stream",
     "text": [
      "C:\\Users\\Matrix\\Documents\\GitHub\\ML-Project-Satwik\\stock_data.py:79: FutureWarning: Method .as_matrix will be removed in a future version. Use .values instead.\n",
      "  x_train = stocks[0:-prediction_time - test_data_cut].as_matrix()\n",
      "C:\\Users\\Matrix\\Documents\\GitHub\\ML-Project-Satwik\\stock_data.py:80: FutureWarning: Method .as_matrix will be removed in a future version. Use .values instead.\n",
      "  y_train = stocks[prediction_time:-test_data_cut]['Close'].as_matrix()\n",
      "C:\\Users\\Matrix\\Documents\\GitHub\\ML-Project-Satwik\\stock_data.py:83: FutureWarning: Method .as_matrix will be removed in a future version. Use .values instead.\n",
      "  x_test = stocks[0 - test_data_cut:-prediction_time].as_matrix()\n",
      "C:\\Users\\Matrix\\Documents\\GitHub\\ML-Project-Satwik\\stock_data.py:84: FutureWarning: Method .as_matrix will be removed in a future version. Use .values instead.\n",
      "  y_test = stocks[prediction_time - test_data_cut:]['Close'].as_matrix()\n"
     ]
    }
   ],
   "source": [
    "X_train, X_test,y_train, y_test = sd.train_test_split_lstm(stocks_data, 5)\n",
    "\n",
    "unroll_length = 50\n",
    "X_train = sd.unroll(X_train, unroll_length)\n",
    "X_test = sd.unroll(X_test, unroll_length)\n",
    "y_train = y_train[-X_train.shape[0]:]\n",
    "y_test = y_test[-X_test.shape[0]:]\n",
    "\n",
    "print(\"x_train\", X_train.shape)\n",
    "print(\"y_train\", y_train.shape)\n",
    "print(\"x_test\", X_test.shape)\n",
    "print(\"y_test\", y_test.shape)"
   ]
  },
  {
   "cell_type": "markdown",
   "metadata": {},
   "source": [
    " Build a basic Long-Short Term Memory model"
   ]
  },
  {
   "cell_type": "code",
   "execution_count": 19,
   "metadata": {},
   "outputs": [
    {
     "name": "stderr",
     "output_type": "stream",
     "text": [
      "WARNING: Logging before flag parsing goes to stderr.\n",
      "W0825 19:36:08.733622 16720 deprecation_wrapper.py:119] From C:\\ProgramData\\Anaconda3\\lib\\site-packages\\keras\\backend\\tensorflow_backend.py:66: The name tf.get_default_graph is deprecated. Please use tf.compat.v1.get_default_graph instead.\n",
      "\n",
      "W0825 19:36:08.783121 16720 deprecation_wrapper.py:119] From C:\\ProgramData\\Anaconda3\\lib\\site-packages\\keras\\backend\\tensorflow_backend.py:541: The name tf.placeholder is deprecated. Please use tf.compat.v1.placeholder instead.\n",
      "\n",
      "W0825 19:36:08.791119 16720 deprecation_wrapper.py:119] From C:\\ProgramData\\Anaconda3\\lib\\site-packages\\keras\\backend\\tensorflow_backend.py:4432: The name tf.random_uniform is deprecated. Please use tf.random.uniform instead.\n",
      "\n",
      "W0825 19:36:09.328651 16720 deprecation_wrapper.py:119] From C:\\ProgramData\\Anaconda3\\lib\\site-packages\\keras\\optimizers.py:793: The name tf.train.Optimizer is deprecated. Please use tf.compat.v1.train.Optimizer instead.\n",
      "\n"
     ]
    },
    {
     "name": "stdout",
     "output_type": "stream",
     "text": [
      "compilation time :  0.04401850700378418\n"
     ]
    }
   ],
   "source": [
    "# build basic lstm model\n",
    "model = lstm.build_basic_model(input_dim = X_train.shape[-1],output_dim = unroll_length, return_sequences=True)\n",
    "\n",
    "# Compile the model\n",
    "start = time.time()\n",
    "model.compile(loss='mean_squared_error', optimizer='adam')\n",
    "print('compilation time : ', time.time() - start)"
   ]
  },
  {
   "cell_type": "markdown",
   "metadata": {},
   "source": [
    " Train the model"
   ]
  },
  {
   "cell_type": "code",
   "execution_count": 20,
   "metadata": {},
   "outputs": [
    {
     "name": "stderr",
     "output_type": "stream",
     "text": [
      "W0825 19:36:09.644766 16720 deprecation.py:323] From C:\\ProgramData\\Anaconda3\\lib\\site-packages\\tensorflow\\python\\ops\\math_grad.py:1250: add_dispatch_support.<locals>.wrapper (from tensorflow.python.ops.array_ops) is deprecated and will be removed in a future version.\n",
      "Instructions for updating:\n",
      "Use tf.where in 2.0, which has the same broadcast rule as np.where\n",
      "W0825 19:36:11.093827 16720 deprecation_wrapper.py:119] From C:\\ProgramData\\Anaconda3\\lib\\site-packages\\keras\\backend\\tensorflow_backend.py:1033: The name tf.assign_add is deprecated. Please use tf.compat.v1.assign_add instead.\n",
      "\n",
      "W0825 19:36:11.258800 16720 deprecation_wrapper.py:119] From C:\\ProgramData\\Anaconda3\\lib\\site-packages\\keras\\backend\\tensorflow_backend.py:1020: The name tf.assign is deprecated. Please use tf.compat.v1.assign instead.\n",
      "\n"
     ]
    },
    {
     "name": "stdout",
     "output_type": "stream",
     "text": [
      "Train on 66 samples, validate on 4 samples\n",
      "Epoch 1/1\n",
      "66/66 [==============================] - 2s 31ms/step - loss: 0.3838 - val_loss: 0.0360\n"
     ]
    },
    {
     "data": {
      "text/plain": [
       "<keras.callbacks.History at 0x13592dc99e8>"
      ]
     },
     "execution_count": 20,
     "metadata": {},
     "output_type": "execute_result"
    }
   ],
   "source": [
    "model.fit(\n",
    "    X_train,\n",
    "    y_train,\n",
    "    epochs=1,\n",
    "    validation_split=0.05)"
   ]
  },
  {
   "cell_type": "markdown",
   "metadata": {},
   "source": [
    " prediction using test data"
   ]
  },
  {
   "cell_type": "code",
   "execution_count": 21,
   "metadata": {},
   "outputs": [],
   "source": [
    "predictions = model.predict(X_test)"
   ]
  },
  {
   "cell_type": "markdown",
   "metadata": {},
   "source": [
    " Plot the results"
   ]
  },
  {
   "cell_type": "code",
   "execution_count": 22,
   "metadata": {},
   "outputs": [
    {
     "data": {
      "image/png": "[encoded data removed]",
      "text/plain": [
       "<Figure size 432x288 with 1 Axes>"
      ]
     },
     "metadata": {
      "needs_background": "light"
     },
     "output_type": "display_data"
    }
   ],
   "source": [
    "vs.plot_lstm_prediction(y_test,predictions)"
   ]
  },
  {
   "cell_type": "markdown",
   "metadata": {},
   "source": [
    "** Step 7:** Get the test score."
   ]
  },
  {
   "cell_type": "code",
   "execution_count": 23,
   "metadata": {},
   "outputs": [
    {
     "name": "stdout",
     "output_type": "stream",
     "text": [
      "Train Score: 0.09786531 MSE (0.31283431 RMSE)\n",
      "Test Score: 0.05912787 MSE (0.24316222 RMSE)\n"
     ]
    }
   ],
   "source": [
    "trainScore = model.evaluate(X_train, y_train, verbose=0)\n",
    "print('Train Score: %.8f MSE (%.8f RMSE)' % (trainScore, math.sqrt(trainScore)))\n",
    "\n",
    "testScore = model.evaluate(X_test, y_test, verbose=0)\n",
    "print('Test Score: %.8f MSE (%.8f RMSE)' % (testScore, math.sqrt(testScore)))"
   ]
  },
  {
   "cell_type": "markdown",
   "metadata": {},
   "source": [
    "### Improved LSTM Model\n",
    " Build an improved LSTM model"
   ]
  },
  {
   "cell_type": "code",
   "execution_count": 24,
   "metadata": {},
   "outputs": [
    {
     "name": "stderr",
     "output_type": "stream",
     "text": [
      "W0825 19:36:14.995036 16720 deprecation.py:506] From C:\\ProgramData\\Anaconda3\\lib\\site-packages\\keras\\backend\\tensorflow_backend.py:3733: calling dropout (from tensorflow.python.ops.nn_ops) with keep_prob is deprecated and will be removed in a future version.\n",
      "Instructions for updating:\n",
      "Please use `rate` instead of `keep_prob`. Rate should be set to `rate = 1 - keep_prob`.\n"
     ]
    },
    {
     "name": "stdout",
     "output_type": "stream",
     "text": [
      "compilation time :  0.03245139122009277\n"
     ]
    }
   ],
   "source": [
    "# Set up hyperparameters\n",
    "batch_size = 100\n",
    "epochs = 5\n",
    "\n",
    "# build improved lstm model\n",
    "model = lstm.build_improved_model( X_train.shape[-1],output_dim = unroll_length, return_sequences=True)\n",
    "\n",
    "start = time.time()\n",
    "#final_model.compile(loss='mean_squared_error', optimizer='adam')\n",
    "model.compile(loss='mean_squared_error', optimizer='adam')\n",
    "print('compilation time : ', time.time() - start)"
   ]
  },
  {
   "cell_type": "markdown",
   "metadata": {},
   "source": [
    " Train improved LSTM model"
   ]
  },
  {
   "cell_type": "code",
   "execution_count": 25,
   "metadata": {
    "scrolled": true
   },
   "outputs": [
    {
     "name": "stdout",
     "output_type": "stream",
     "text": [
      "Train on 66 samples, validate on 4 samples\n",
      "Epoch 1/5\n",
      " - 2s - loss: 0.4854 - val_loss: 0.1920\n",
      "Epoch 2/5\n",
      " - 0s - loss: 0.3783 - val_loss: 0.1226\n",
      "Epoch 3/5\n",
      " - 0s - loss: 0.2578 - val_loss: 0.0595\n",
      "Epoch 4/5\n",
      " - 0s - loss: 0.1443 - val_loss: 0.0126\n",
      "Epoch 5/5\n",
      " - 0s - loss: 0.0490 - val_loss: 0.0065\n"
     ]
    },
    {
     "data": {
      "text/plain": [
       "<keras.callbacks.History at 0x1358b8b5ac8>"
      ]
     },
     "execution_count": 25,
     "metadata": {},
     "output_type": "execute_result"
    }
   ],
   "source": [
    "model.fit(X_train, \n",
    "          y_train, \n",
    "          batch_size=batch_size,\n",
    "          epochs=epochs,\n",
    "          verbose=2,\n",
    "          validation_split=0.05\n",
    "         )"
   ]
  },
  {
   "cell_type": "markdown",
   "metadata": {},
   "source": [
    " Make prediction on improved LSTM model"
   ]
  },
  {
   "cell_type": "code",
   "execution_count": 26,
   "metadata": {},
   "outputs": [],
   "source": [
    "# Generate predictions \n",
    "predictions = model.predict(X_test, batch_size=batch_size)"
   ]
  },
  {
   "cell_type": "markdown",
   "metadata": {},
   "source": [
    "ploting the results"
   ]
  },
  {
   "cell_type": "code",
   "execution_count": 27,
   "metadata": {},
   "outputs": [
    {
     "data": {
      "image/png": "[encoded data removed]",
      "text/plain": [
       "<Figure size 432x288 with 1 Axes>"
      ]
     },
     "metadata": {
      "needs_background": "light"
     },
     "output_type": "display_data"
    }
   ],
   "source": [
    "vs.plot_lstm_prediction(y_test,predictions)"
   ]
  },
  {
   "cell_type": "markdown",
   "metadata": {},
   "source": [
    " Get the test score"
   ]
  },
  {
   "cell_type": "code",
   "execution_count": 28,
   "metadata": {},
   "outputs": [
    {
     "name": "stdout",
     "output_type": "stream",
     "text": [
      "Train Score: 0.00297736 MSE (0.05456515 RMSE)\n",
      "Test Score: 0.01086354 MSE (0.10422831 RMSE)\n"
     ]
    }
   ],
   "source": [
    "trainScore = model.evaluate(X_train, y_train, verbose=0)\n",
    "print('Train Score: %.8f MSE (%.8f RMSE)' % (trainScore, math.sqrt(trainScore)))\n",
    "\n",
    "testScore = model.evaluate(X_test, y_test, verbose=0)\n",
    "print('Test Score: %.8f MSE (%.8f RMSE)' % (testScore, math.sqrt(testScore)))"
   ]
  },
  {
   "cell_type": "code",
   "execution_count": 29,
   "metadata": {},
   "outputs": [
    {
     "name": "stdout",
     "output_type": "stream",
     "text": [
      "Delta Price: 0.010864 - RMSE * Adjusted Close Range\n"
     ]
    }
   ],
   "source": [
    "range = [np.amin(stocks_data['Close']), np.amax(stocks_data['Close'])]\n",
    "\n",
    "#Calculate the stock price delta in $\n",
    "\n",
    "true_delta = testScore*(range[1]-range[0])\n",
    "print('Delta Price: %.6f - RMSE * Adjusted Close Range' % true_delta)    "
   ]
  },
  {
   "cell_type": "markdown",
   "metadata": {},
   "source": [
    "checkinh model"
   ]
  },
  {
   "cell_type": "code",
   "execution_count": 31,
   "metadata": {},
   "outputs": [
    {
     "name": "stdout",
     "output_type": "stream",
     "text": [
      "       Open     Close    Volume\n",
      "0  0.123901  0.000000  0.000404\n",
      "1  0.000000  0.174601  0.000666\n",
      "2  0.010989  0.112263  0.000614\n",
      "3  0.093132  0.291229  0.000383\n",
      "4  0.243819  0.430228  0.000244\n",
      "(12, 1, 3)\n",
      "(12,)\n",
      "Test Score:  0.4205 MSE ( 0.6485 RMSE)\n"
     ]
    },
    {
     "name": "stderr",
     "output_type": "stream",
     "text": [
      "C:\\ProgramData\\Anaconda3\\lib\\site-packages\\ipykernel_launcher.py:13: FutureWarning: Method .as_matrix will be removed in a future version. Use .values instead.\n",
      "  del sys.path[0]\n",
      "C:\\ProgramData\\Anaconda3\\lib\\site-packages\\ipykernel_launcher.py:14: FutureWarning: Method .as_matrix will be removed in a future version. Use .values instead.\n",
      "  \n"
     ]
    }
   ],
   "source": [
    "import preprocess_data as ppd\n",
    "\n",
    "data = pd.read_csv('googl.csv')\n",
    "\n",
    "stocks = ppd.remove_data(data)\n",
    "\n",
    "stocks = ppd.get_normalised_data(stocks)\n",
    "\n",
    "stocks = stocks.drop(['Item'], axis = 1)\n",
    "#Print the dataframe head and tail\n",
    "print(stocks.head())\n",
    "\n",
    "X = stocks[:].as_matrix()\n",
    "Y = stocks[:]['Close'].as_matrix()\n",
    "\n",
    "X = sd.unroll(X,1)\n",
    "Y = Y[-X.shape[0]:]\n",
    "\n",
    "print(X.shape)\n",
    "print(Y.shape)\n",
    "\n",
    "# Generate predictions \n",
    "predictions = model.predict(X)\n",
    "\n",
    "#get the test score\n",
    "testScore = model.evaluate(X, Y, verbose=0)\n",
    "print('Test Score:  %.4f MSE ( %.4f RMSE)' % (testScore, math.sqrt(testScore)))"
   ]
  },
  {
   "cell_type": "code",
   "execution_count": null,
   "metadata": {},
   "outputs": [],
   "source": []
  },
  {
   "cell_type": "code",
   "execution_count": null,
   "metadata": {},
   "outputs": [],
   "source": []
  },
  {
   "cell_type": "code",
   "execution_count": null,
   "metadata": {},
   "outputs": [],
   "source": []
  },
  {
   "cell_type": "code",
   "execution_count": null,
   "metadata": {},
   "outputs": [],
   "source": []
  },
  {
   "cell_type": "code",
   "execution_count": null,
   "metadata": {},
   "outputs": [],
   "source": []
  },
  {
   "cell_type": "code",
   "execution_count": null,
   "metadata": {},
   "outputs": [],
   "source": []
  }
 ],
 "metadata": {
  "kernelspec": {
   "display_name": "Python 3",
   "language": "python",
   "name": "python3"
  },
  "language_info": {
   "codemirror_mode": {
    "name": "ipython",
    "version": 3
   },
   "file_extension": ".py",
   "mimetype": "text/x-python",
   "name": "python",
   "nbconvert_exporter": "python",
   "pygments_lexer": "ipython3",
   "version": "3.7.3"
  }
 },
 "nbformat": 4,
 "nbformat_minor": 2
}
