{
 "cells": [
  {
   "cell_type": "code",
   "execution_count": 1,
   "metadata": {},
   "outputs": [
    {
     "name": "stdout",
     "output_type": "stream",
     "text": [
      "[*********************100%***********************]  1 of 1 downloaded\n"
     ]
    },
    {
     "data": {
      "text/plain": [
       "<Figure size 640x480 with 1 Axes>"
      ]
     },
     "metadata": {},
     "output_type": "display_data"
    },
    {
     "data": {
      "text/plain": [
       "<Figure size 640x480 with 1 Axes>"
      ]
     },
     "metadata": {},
     "output_type": "display_data"
    }
   ],
   "source": [
    "import yfinance as yf  \n",
    " \n",
    "# Get the data for the stock Apple by specifying the stock ticker, start date, and end date\n",
    "data = yf.download('AAPL','2016-01-01','2018-01-01')\n",
    " \n",
    "# Plot the close prices\n",
    "import matplotlib.pyplot as plt\n",
    "data.Close.plot()\n",
    "plt.show()\n",
    "import matplotlib.pyplot as plt\n",
    "from datetime import date\n",
    "from nsepy import get_history\n",
    "stock_opt = get_history(symbol=\"SBIN\",\n",
    "                        start=date(2018,1,15),\n",
    "                        end=date(2018,2,1),\n",
    "                        option_type=\"CE\",\n",
    "                        strike_price=300,\n",
    "                        expiry_date=date(2018,2,22))\n",
    "stock_opt.Close.plot()\n",
    "plt.show()\n"
   ]
  },
  {
   "cell_type": "code",
   "execution_count": null,
   "metadata": {},
   "outputs": [],
   "source": []
  },
  {
   "cell_type": "code",
   "execution_count": null,
   "metadata": {},
   "outputs": [],
   "source": []
  },
  {
   "cell_type": "code",
   "execution_count": null,
   "metadata": {},
   "outputs": [],
   "source": []
  },
  {
   "cell_type": "code",
   "execution_count": null,
   "metadata": {},
   "outputs": [],
   "source": []
  }
 ],
 "metadata": {
  "kernelspec": {
   "display_name": "Python 3",
   "language": "python",
   "name": "python3"
  },
  "language_info": {
   "codemirror_mode": {
    "name": "ipython",
    "version": 3
   },
   "file_extension": ".py",
   "mimetype": "text/x-python",
   "name": "python",
   "nbconvert_exporter": "python",
   "pygments_lexer": "ipython3",
   "version": "3.7.3"
  }
 },
 "nbformat": 4,
 "nbformat_minor": 2
}
